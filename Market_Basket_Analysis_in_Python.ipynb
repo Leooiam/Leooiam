{
  "nbformat": 4,
  "nbformat_minor": 0,
  "metadata": {
    "colab": {
      "name": "Market Basket Analysis in Python.ipynb",
      "provenance": [],
      "mount_file_id": "1MWK_2LQb8V5aloJSOwJI7MWbUbUudq0c",
      "authorship_tag": "ABX9TyNdVSyMS3w/Ti8bUk5LJZ5d",
      "include_colab_link": true
    },
    "kernelspec": {
      "name": "python3",
      "display_name": "Python 3"
    }
  },
  "cells": [
    {
      "cell_type": "markdown",
      "metadata": {
        "id": "view-in-github",
        "colab_type": "text"
      },
      "source": [
        "<a href=\"https://colab.research.google.com/github/Leooiam/data_science_practice/blob/main/Market_Basket_Analysis_in_Python.ipynb\" target=\"_parent\"><img src=\"https://colab.research.google.com/assets/colab-badge.svg\" alt=\"Open In Colab\"/></a>"
      ]
    },
    {
      "cell_type": "markdown",
      "metadata": {
        "id": "Ta9JfWuMD-n1"
      },
      "source": [
        "Market basket analysis uses lists of transactions to identify useful associations between items. Such associations can be written in the form of a rule that has an antecedent and a consequent. Let's assume a small grocery store has asked you to look at their transaction data. After some analysis, you find the rule given below.\n",
        "\n",
        "{cereal}  {milk}\n",
        "\n"
      ]
    },
    {
      "cell_type": "markdown",
      "metadata": {
        "id": "JmWq0RbyEx8u"
      },
      "source": [
        "# Introduction to Market Basket Analysis"
      ]
    },
    {
      "cell_type": "markdown",
      "metadata": {
        "id": "69QJ_QIiE5AO"
      },
      "source": [
        "## What is Market Basket Analysis?"
      ]
    },
    {
      "cell_type": "markdown",
      "metadata": {
        "id": "7NxysN2vE9ue"
      },
      "source": [
        "### Cross-selling products"
      ]
    },
    {
      "cell_type": "markdown",
      "metadata": {
        "id": "aUZATP0KFBUH"
      },
      "source": [
        "The small grocery store has decided to cross-sell chewing gum with either coffee, cereal, or bread. To determine which of the three items is best to use, the store owner has performed an experiment. For one week, she sold chewing gum next to the register and recorded all transactions where it was purchased with either coffee, cereal, or bread. The transactions from that day are available as a list of lists named transactions. Each transaction is either ['coffee','gum'], ['cereal','gum'], or ['bread','gum']."
      ]
    },
    {
      "cell_type": "code",
      "metadata": {
        "id": "70A2yZ7SFM7n"
      },
      "source": [
        "transactions = [['bread', 'gum'],\n",
        " ['bread', 'gum'],\n",
        " ['cereal', 'gum'],\n",
        " ['coffee', 'gum'],\n",
        " ['bread', 'gum'],\n",
        " ['coffee', 'gum'],\n",
        " ['coffee', 'gum'],\n",
        " ['coffee', 'gum'],\n",
        " ['cereal', 'gum'],\n",
        " ['coffee', 'gum'],\n",
        " ['coffee', 'gum'],\n",
        " ['cereal', 'gum'],\n",
        " ['coffee', 'gum'],\n",
        " ['cereal', 'gum'],\n",
        " ['coffee', 'gum'],\n",
        " ['coffee', 'gum'],\n",
        " ['cereal', 'gum'],\n",
        " ['coffee', 'gum'],\n",
        " ['bread', 'gum'],\n",
        " ['cereal', 'gum'],\n",
        " ['bread', 'gum'],\n",
        " ['bread', 'gum'],\n",
        " ['coffee', 'gum'],\n",
        " ['coffee', 'gum'],\n",
        " ['bread', 'gum'],\n",
        " ['bread', 'gum'],\n",
        " ['coffee', 'gum'],\n",
        " ['coffee', 'gum'],\n",
        " ['cereal', 'gum'],\n",
        " ['cereal', 'gum'],\n",
        " ['coffee', 'gum'],\n",
        " ['coffee', 'gum'],\n",
        " ['coffee', 'gum'],\n",
        " ['cereal', 'gum'],\n",
        " ['bread', 'gum'],\n",
        " ['coffee', 'gum'],\n",
        " ['bread', 'gum'],\n",
        " ['coffee', 'gum'],\n",
        " ['cereal', 'gum'],\n",
        " ['bread', 'gum'],\n",
        " ['cereal', 'gum'],\n",
        " ['cereal', 'gum'],\n",
        " ['coffee', 'gum'],\n",
        " ['coffee', 'gum'],\n",
        " ['cereal', 'gum'],\n",
        " ['coffee', 'gum'],\n",
        " ['cereal', 'gum'],\n",
        " ['coffee', 'gum'],\n",
        " ['coffee', 'gum'],\n",
        " ['bread', 'gum'],\n",
        " ['cereal', 'gum'],\n",
        " ['bread', 'gum'],\n",
        " ['coffee', 'gum'],\n",
        " ['cereal', 'gum'],\n",
        " ['coffee', 'gum'],\n",
        " ['cereal', 'gum'],\n",
        " ['cereal', 'gum'],\n",
        " ['bread', 'gum'],\n",
        " ['bread', 'gum'],\n",
        " ['coffee', 'gum'],\n",
        " ['coffee', 'gum'],\n",
        " ['coffee', 'gum'],\n",
        " ['bread', 'gum'],\n",
        " ['cereal', 'gum'],\n",
        " ['cereal', 'gum'],\n",
        " ['coffee', 'gum'],\n",
        " ['bread', 'gum'],\n",
        " ['coffee', 'gum'],\n",
        " ['coffee', 'gum'],\n",
        " ['cereal', 'gum'],\n",
        " ['cereal', 'gum'],\n",
        " ['coffee', 'gum'],\n",
        " ['bread', 'gum'],\n",
        " ['coffee', 'gum'],\n",
        " ['cereal', 'gum'],\n",
        " ['coffee', 'gum'],\n",
        " ['cereal', 'gum'],\n",
        " ['cereal', 'gum'],\n",
        " ['coffee', 'gum'],\n",
        " ['coffee', 'gum'],\n",
        " ['bread', 'gum'],\n",
        " ['coffee', 'gum'],\n",
        " ['bread', 'gum'],\n",
        " ['coffee', 'gum'],\n",
        " ['coffee', 'gum']]"
      ],
      "execution_count": null,
      "outputs": []
    },
    {
      "cell_type": "code",
      "metadata": {
        "colab": {
          "base_uri": "https://localhost:8080/"
        },
        "id": "SOTg-AO9FDj_",
        "outputId": "22e99e6a-7cc9-4cdb-8908-dbc40f8d3f43"
      },
      "source": [
        "# Count the number of transactions with coffee and gum\n",
        "coffee = transactions.count(['coffee', 'gum'])\n",
        "\n",
        "# Count the number of transactions with cereal and gum\n",
        "cereal = transactions.count(['cereal', 'gum'])\n",
        "\n",
        "# Count the number of transactions with bread and gum\n",
        "bread = transactions.count(['bread', 'gum'])\n",
        "\n",
        "# Print the counts for each transaction.\n",
        "print('coffee:', coffee)\n",
        "print('cereal:', cereal)\n",
        "print('bread:', bread)"
      ],
      "execution_count": null,
      "outputs": [
        {
          "output_type": "stream",
          "text": [
            "coffee: 40\n",
            "cereal: 25\n",
            "bread: 20\n"
          ],
          "name": "stdout"
        }
      ]
    },
    {
      "cell_type": "markdown",
      "metadata": {
        "id": "A1WXTwcRFYHH"
      },
      "source": [
        "## Identifying association rules"
      ]
    },
    {
      "cell_type": "markdown",
      "metadata": {
        "id": "ikkT82rEFZX2"
      },
      "source": [
        "### Preparing data for market basket analysis"
      ]
    },
    {
      "cell_type": "markdown",
      "metadata": {
        "id": "kircxUvYGpOf"
      },
      "source": [
        "Throughout this course, you will typically encounter data in one of two formats: a pandas DataFrame or a list of lists. DataFrame objects will be constructed by importing a csv file using pandas. They will consist of a single column of data, where each element contains a string of items in a transaction, separated by a comma, as in the table below.\n",
        "\n",
        "In this exercise, you will practice loading the data from a csv file and will prepare it for use as a list of lists. Note that the path to the grocery store dataset has been defined and is available to you as groceries_path."
      ]
    },
    {
      "cell_type": "code",
      "metadata": {
        "colab": {
          "base_uri": "https://localhost:8080/"
        },
        "id": "_u8TVCF7HOeq",
        "outputId": "e7beec9a-27e1-4b5c-c5d6-b17d1d9f5c13"
      },
      "source": [
        "# Import pandas under the alias pd\n",
        "import pandas as pd\n",
        "\n",
        "# Load transactions from pandas\n",
        "groceries = pd.read_csv('small_grocery_store.csv')\n",
        "\n",
        "# Split transaction strings into lists\n",
        "transactions = groceries['Transaction'].apply(lambda t: t.split(','))\n",
        "\n",
        "# Convert DataFrame column into list of strings\n",
        "transactions = list(transactions)\n",
        "\n",
        "# Print the list of transactions\n",
        "print(transactions)"
      ],
      "execution_count": null,
      "outputs": [
        {
          "output_type": "stream",
          "text": [
            "[['milk', 'bread', 'biscuit'], ['bread', 'milk', 'biscuit', 'cereal'], ['bread', 'tea'], ['jam', 'bread', 'milk'], ['tea', 'biscuit'], ['bread', 'tea'], ['tea', 'cereal'], ['bread', 'tea', 'biscuit'], ['jam', 'bread', 'tea'], ['bread', 'milk'], ['coffee', 'orange', 'biscuit', 'cereal'], ['coffee', 'orange', 'biscuit', 'cereal'], ['coffee', 'sugar'], ['bread', 'coffee', 'orange'], ['bread', 'sugar', 'biscuit'], ['coffee', 'sugar', 'cereal'], ['bread', 'sugar', 'biscuit'], ['bread', 'coffee', 'sugar'], ['bread', 'coffee', 'sugar'], ['tea', 'milk', 'coffee', 'cereal']]\n"
          ],
          "name": "stdout"
        }
      ]
    },
    {
      "cell_type": "markdown",
      "metadata": {
        "id": "hZwcEiyGH4Pf"
      },
      "source": [
        "### Generating association rules"
      ]
    },
    {
      "cell_type": "markdown",
      "metadata": {
        "id": "zfpTwOX0H6k3"
      },
      "source": [
        "As you saw, the function permutations from the module itertools can be used to quickly generate the set of all one-antecedent, one-consequent rules. You do not, of course, know which of these rules are useful. You simply know that each is a valid way to combine two items.\n",
        "\n",
        "Let's practice generating and counting the set of all rules for a subset of the grocery dataset: coffee, tea, milk, and sugar."
      ]
    },
    {
      "cell_type": "code",
      "metadata": {
        "colab": {
          "base_uri": "https://localhost:8080/"
        },
        "id": "-iRj-h4zIcoI",
        "outputId": "02598a33-207d-4131-97e4-6431e3ee9671"
      },
      "source": [
        "# Import permutations from the itertools module\n",
        "from itertools import permutations\n",
        "\n",
        "# Define the set of groceries\n",
        "flattened = [i for t in transactions for i in t]\n",
        "groceries = list(set(flattened))\n",
        "\n",
        "# Generate all possible rules\n",
        "rules = list(permutations(groceries, 2))\n",
        "\n",
        "# Print the set of rules\n",
        "print(rules)\n",
        "\n",
        "# Print the number of rules\n",
        "print(len(rules))"
      ],
      "execution_count": null,
      "outputs": [
        {
          "output_type": "stream",
          "text": [
            "[('milk', 'orange'), ('milk', 'biscuit'), ('milk', 'cereal'), ('milk', 'jam'), ('milk', 'bread'), ('milk', 'sugar'), ('milk', 'tea'), ('milk', 'coffee'), ('orange', 'milk'), ('orange', 'biscuit'), ('orange', 'cereal'), ('orange', 'jam'), ('orange', 'bread'), ('orange', 'sugar'), ('orange', 'tea'), ('orange', 'coffee'), ('biscuit', 'milk'), ('biscuit', 'orange'), ('biscuit', 'cereal'), ('biscuit', 'jam'), ('biscuit', 'bread'), ('biscuit', 'sugar'), ('biscuit', 'tea'), ('biscuit', 'coffee'), ('cereal', 'milk'), ('cereal', 'orange'), ('cereal', 'biscuit'), ('cereal', 'jam'), ('cereal', 'bread'), ('cereal', 'sugar'), ('cereal', 'tea'), ('cereal', 'coffee'), ('jam', 'milk'), ('jam', 'orange'), ('jam', 'biscuit'), ('jam', 'cereal'), ('jam', 'bread'), ('jam', 'sugar'), ('jam', 'tea'), ('jam', 'coffee'), ('bread', 'milk'), ('bread', 'orange'), ('bread', 'biscuit'), ('bread', 'cereal'), ('bread', 'jam'), ('bread', 'sugar'), ('bread', 'tea'), ('bread', 'coffee'), ('sugar', 'milk'), ('sugar', 'orange'), ('sugar', 'biscuit'), ('sugar', 'cereal'), ('sugar', 'jam'), ('sugar', 'bread'), ('sugar', 'tea'), ('sugar', 'coffee'), ('tea', 'milk'), ('tea', 'orange'), ('tea', 'biscuit'), ('tea', 'cereal'), ('tea', 'jam'), ('tea', 'bread'), ('tea', 'sugar'), ('tea', 'coffee'), ('coffee', 'milk'), ('coffee', 'orange'), ('coffee', 'biscuit'), ('coffee', 'cereal'), ('coffee', 'jam'), ('coffee', 'bread'), ('coffee', 'sugar'), ('coffee', 'tea')]\n",
            "72\n"
          ],
          "name": "stdout"
        }
      ]
    },
    {
      "cell_type": "markdown",
      "metadata": {
        "id": "0sLkfwLCIrUw"
      },
      "source": [
        "## The simplest metric"
      ]
    },
    {
      "cell_type": "markdown",
      "metadata": {
        "id": "dhugBRsMRta_"
      },
      "source": [
        "### One-hot encoding transaction data"
      ]
    },
    {
      "cell_type": "markdown",
      "metadata": {
        "id": "hc3Vb6neZbQ2"
      },
      "source": [
        "Throughout the course, we will use a common pipeline for preprocessing data for use in market basket analysis. The first step is to import a pandas DataFrame and select the column that contains transactions. Each transaction in the column will be a string that consists of a number of items, each separated by a comma. The next step is to use a lambda function to split each transaction string into a list, thereby transforming the column into a list of lists.\n",
        "\n",
        "In this exercise, you'll start with the list of lists from the grocery dataset, which is available to you as transactions. You will then transform transactions into a one-hot encoded DataFrame, where each column consists of TRUE and FALSE values that indicate whether an item was included in a transaction."
      ]
    },
    {
      "cell_type": "code",
      "metadata": {
        "colab": {
          "base_uri": "https://localhost:8080/"
        },
        "id": "zi_5REh4Zj1M",
        "outputId": "733262ec-69ae-4037-ce89-1794658d2098"
      },
      "source": [
        "# Import the transaction encoder function from mlxtend\n",
        "from mlxtend.preprocessing import TransactionEncoder\n",
        "import pandas as pd\n",
        "\n",
        "# Instantiate transaction encoder and identify unique items\n",
        "encoder = TransactionEncoder().fit(transactions)\n",
        "\n",
        "# One-hot encode transactions\n",
        "onehot = encoder.transform(transactions)\n",
        "\n",
        "# Convert one-hot encoded data to DataFrame\n",
        "onehot = pd.DataFrame(onehot, columns = encoder.columns_)\n",
        "\n",
        "# Print the one-hot encoded transaction dataset\n",
        "print(onehot)"
      ],
      "execution_count": null,
      "outputs": [
        {
          "output_type": "stream",
          "text": [
            "    biscuit  bread  cereal  coffee    jam   milk  orange  sugar    tea\n",
            "0      True   True   False   False  False   True   False  False  False\n",
            "1      True   True    True   False  False   True   False  False  False\n",
            "2     False   True   False   False  False  False   False  False   True\n",
            "3     False   True   False   False   True   True   False  False  False\n",
            "4      True  False   False   False  False  False   False  False   True\n",
            "5     False   True   False   False  False  False   False  False   True\n",
            "6     False  False    True   False  False  False   False  False   True\n",
            "7      True   True   False   False  False  False   False  False   True\n",
            "8     False   True   False   False   True  False   False  False   True\n",
            "9     False   True   False   False  False   True   False  False  False\n",
            "10     True  False    True    True  False  False    True  False  False\n",
            "11     True  False    True    True  False  False    True  False  False\n",
            "12    False  False   False    True  False  False   False   True  False\n",
            "13    False   True   False    True  False  False    True  False  False\n",
            "14     True   True   False   False  False  False   False   True  False\n",
            "15    False  False    True    True  False  False   False   True  False\n",
            "16     True   True   False   False  False  False   False   True  False\n",
            "17    False   True   False    True  False  False   False   True  False\n",
            "18    False   True   False    True  False  False   False   True  False\n",
            "19    False  False    True    True  False   True   False  False   True\n"
          ],
          "name": "stdout"
        }
      ]
    },
    {
      "cell_type": "markdown",
      "metadata": {
        "id": "X4--cu1cb5sG"
      },
      "source": [
        "### Computing the support metric"
      ]
    },
    {
      "cell_type": "markdown",
      "metadata": {
        "id": "-7mlTvlqb7hO"
      },
      "source": [
        "In the previous exercise, you one-hot encoded a small grocery store's transactions as the DataFrame onehot. In this exercise, you'll make use of that DataFrame and the support metric to help the store's owner. First, she has asked you to identify frequently purchased items, which you'll do by computing support at the item-level. And second, she asked you to check whether the rule {jam}  {bread} has a support of over 0.05. Note that onehot has been defined and is available. Additionally, pandas has been imported under the alias pd and numpy has been imported under the alias np."
      ]
    },
    {
      "cell_type": "code",
      "metadata": {
        "colab": {
          "base_uri": "https://localhost:8080/"
        },
        "id": "aPjyp04ecUfL",
        "outputId": "f6f31bf1-4187-4450-aa68-3d3b1c4916ff"
      },
      "source": [
        "# Compute the support\n",
        "support = onehot.mean()\n",
        "\n",
        "# Print the support\n",
        "print(support)"
      ],
      "execution_count": null,
      "outputs": [
        {
          "output_type": "stream",
          "text": [
            "biscuit    0.40\n",
            "bread      0.65\n",
            "cereal     0.30\n",
            "coffee     0.40\n",
            "jam        0.10\n",
            "milk       0.25\n",
            "orange     0.15\n",
            "sugar      0.30\n",
            "tea        0.35\n",
            "dtype: float64\n"
          ],
          "name": "stdout"
        }
      ]
    },
    {
      "cell_type": "code",
      "metadata": {
        "colab": {
          "base_uri": "https://localhost:8080/"
        },
        "id": "MiY-fKLAcWPa",
        "outputId": "9c9a8ffd-bc7c-4167-d9f0-07ad1662ab9b"
      },
      "source": [
        "import numpy as np\n",
        "\n",
        "# Add a jam+bread column to the DataFrame onehot\n",
        "onehot['jam+bread'] = np.logical_and(onehot['jam'], onehot['bread'])\n",
        "\n",
        "# Compute the support\n",
        "support = onehot.mean()\n",
        "\n",
        "# Print the support values\n",
        "print(support)"
      ],
      "execution_count": null,
      "outputs": [
        {
          "output_type": "stream",
          "text": [
            "biscuit      0.40\n",
            "bread        0.65\n",
            "cereal       0.30\n",
            "coffee       0.40\n",
            "jam          0.10\n",
            "milk         0.25\n",
            "orange       0.15\n",
            "sugar        0.30\n",
            "tea          0.35\n",
            "jam+bread    0.10\n",
            "dtype: float64\n"
          ],
          "name": "stdout"
        }
      ]
    },
    {
      "cell_type": "markdown",
      "metadata": {
        "id": "VofGrdixcwrv"
      },
      "source": [
        "# Association Rules"
      ]
    },
    {
      "cell_type": "markdown",
      "metadata": {
        "id": "T3ZmBXLUc2km"
      },
      "source": [
        "## Confidence and lift"
      ]
    },
    {
      "cell_type": "markdown",
      "metadata": {
        "id": "rJ1ktgB7c58B"
      },
      "source": [
        ""
      ]
    }
  ]
}
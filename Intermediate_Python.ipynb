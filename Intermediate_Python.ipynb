{
  "nbformat": 4,
  "nbformat_minor": 0,
  "metadata": {
    "colab": {
      "name": "Intermediate_Python.ipynb",
      "provenance": [],
      "toc_visible": true,
      "authorship_tag": "ABX9TyMZf+W4Kz54vwmYWVDhQnwD",
      "include_colab_link": true
    },
    "kernelspec": {
      "name": "python3",
      "display_name": "Python 3"
    }
  },
  "cells": [
    {
      "cell_type": "markdown",
      "metadata": {
        "id": "view-in-github",
        "colab_type": "text"
      },
      "source": [
        "<a href=\"https://colab.research.google.com/github/Leooiam/data_science_practice/blob/main/Intermediate_Python.ipynb\" target=\"_parent\"><img src=\"https://colab.research.google.com/assets/colab-badge.svg\" alt=\"Open In Colab\"/></a>"
      ]
    },
    {
      "cell_type": "markdown",
      "metadata": {
        "id": "KaFKj2i2NdqK"
      },
      "source": [
        "# Matplotlib"
      ]
    },
    {
      "cell_type": "markdown",
      "metadata": {
        "id": "qlAjrW-JNiYq"
      },
      "source": [
        "## Basic plots with matplotlib"
      ]
    },
    {
      "cell_type": "markdown",
      "metadata": {
        "id": "5Els922uNoLi"
      },
      "source": [
        "### Line plot (1)"
      ]
    },
    {
      "cell_type": "markdown",
      "metadata": {
        "id": "WVq7RCSmNsww"
      },
      "source": [
        "With matplotlib, you can create a bunch of different plots in Python. The most basic plot is the line plot. A general recipe is given here.\n",
        "\n",
        "\n",
        "\n",
        "```\n",
        "import matplotlib.pyplot as plt\n",
        "plt.plot(x,y)\n",
        "plt.show()\n",
        "```\n",
        "\n",
        "\n",
        "In the video, you already saw how much the world population has grown over the past years. Will it continue to do so? The world bank has estimates of the world population for the years 1950 up to 2100. The years are loaded in your workspace as a list called year, and the corresponding populations as a list called pop.\n",
        "\n",
        "This course touches on a lot of concepts you may have forgotten, so if you ever need a quick refresher, download the Python for data science Cheat Sheet and keep it handy!"
      ]
    },
    {
      "cell_type": "code",
      "metadata": {
        "id": "h4Qd-HVDNsH4"
      },
      "source": [
        "year = [1950,\n",
        " 1951,\n",
        " 1952,\n",
        " 1953,\n",
        " 1954,\n",
        " 1955,\n",
        " 1956,\n",
        " 1957,\n",
        " 1958,\n",
        " 1959,\n",
        " 1960,\n",
        " 1961,\n",
        " 1962,\n",
        " 1963,\n",
        " 1964,\n",
        " 1965,\n",
        " 1966,\n",
        " 1967,\n",
        " 1968,\n",
        " 1969,\n",
        " 1970,\n",
        " 1971,\n",
        " 1972,\n",
        " 1973,\n",
        " 1974,\n",
        " 1975,\n",
        " 1976,\n",
        " 1977,\n",
        " 1978,\n",
        " 1979,\n",
        " 1980,\n",
        " 1981,\n",
        " 1982,\n",
        " 1983,\n",
        " 1984,\n",
        " 1985,\n",
        " 1986,\n",
        " 1987,\n",
        " 1988,\n",
        " 1989,\n",
        " 1990,\n",
        " 1991,\n",
        " 1992,\n",
        " 1993,\n",
        " 1994,\n",
        " 1995,\n",
        " 1996,\n",
        " 1997,\n",
        " 1998,\n",
        " 1999,\n",
        " 2000,\n",
        " 2001,\n",
        " 2002,\n",
        " 2003,\n",
        " 2004,\n",
        " 2005,\n",
        " 2006,\n",
        " 2007,\n",
        " 2008,\n",
        " 2009,\n",
        " 2010,\n",
        " 2011,\n",
        " 2012,\n",
        " 2013,\n",
        " 2014,\n",
        " 2015,\n",
        " 2016,\n",
        " 2017,\n",
        " 2018,\n",
        " 2019,\n",
        " 2020,\n",
        " 2021,\n",
        " 2022,\n",
        " 2023,\n",
        " 2024,\n",
        " 2025,\n",
        " 2026,\n",
        " 2027,\n",
        " 2028,\n",
        " 2029,\n",
        " 2030,\n",
        " 2031,\n",
        " 2032,\n",
        " 2033,\n",
        " 2034,\n",
        " 2035,\n",
        " 2036,\n",
        " 2037,\n",
        " 2038,\n",
        " 2039,\n",
        " 2040,\n",
        " 2041,\n",
        " 2042,\n",
        " 2043,\n",
        " 2044,\n",
        " 2045,\n",
        " 2046,\n",
        " 2047,\n",
        " 2048,\n",
        " 2049,\n",
        " 2050,\n",
        " 2051,\n",
        " 2052,\n",
        " 2053,\n",
        " 2054,\n",
        " 2055,\n",
        " 2056,\n",
        " 2057,\n",
        " 2058,\n",
        " 2059,\n",
        " 2060,\n",
        " 2061,\n",
        " 2062,\n",
        " 2063,\n",
        " 2064,\n",
        " 2065,\n",
        " 2066,\n",
        " 2067,\n",
        " 2068,\n",
        " 2069,\n",
        " 2070,\n",
        " 2071,\n",
        " 2072,\n",
        " 2073,\n",
        " 2074,\n",
        " 2075,\n",
        " 2076,\n",
        " 2077,\n",
        " 2078,\n",
        " 2079,\n",
        " 2080,\n",
        " 2081,\n",
        " 2082,\n",
        " 2083,\n",
        " 2084,\n",
        " 2085,\n",
        " 2086,\n",
        " 2087,\n",
        " 2088,\n",
        " 2089,\n",
        " 2090,\n",
        " 2091,\n",
        " 2092,\n",
        " 2093,\n",
        " 2094,\n",
        " 2095,\n",
        " 2096,\n",
        " 2097,\n",
        " 2098,\n",
        " 2099,\n",
        " 2100]\n",
        "\n",
        "pop = [2.53,\n",
        " 2.57,\n",
        " 2.62,\n",
        " 2.67,\n",
        " 2.71,\n",
        " 2.76,\n",
        " 2.81,\n",
        " 2.86,\n",
        " 2.92,\n",
        " 2.97,\n",
        " 3.03,\n",
        " 3.08,\n",
        " 3.14,\n",
        " 3.2,\n",
        " 3.26,\n",
        " 3.33,\n",
        " 3.4,\n",
        " 3.47,\n",
        " 3.54,\n",
        " 3.62,\n",
        " 3.69,\n",
        " 3.77,\n",
        " 3.84,\n",
        " 3.92,\n",
        " 4.0,\n",
        " 4.07,\n",
        " 4.15,\n",
        " 4.22,\n",
        " 4.3,\n",
        " 4.37,\n",
        " 4.45,\n",
        " 4.53,\n",
        " 4.61,\n",
        " 4.69,\n",
        " 4.78,\n",
        " 4.86,\n",
        " 4.95,\n",
        " 5.05,\n",
        " 5.14,\n",
        " 5.23,\n",
        " 5.32,\n",
        " 5.41,\n",
        " 5.49,\n",
        " 5.58,\n",
        " 5.66,\n",
        " 5.74,\n",
        " 5.82,\n",
        " 5.9,\n",
        " 5.98,\n",
        " 6.05,\n",
        " 6.13,\n",
        " 6.2,\n",
        " 6.28,\n",
        " 6.36,\n",
        " 6.44,\n",
        " 6.51,\n",
        " 6.59,\n",
        " 6.67,\n",
        " 6.75,\n",
        " 6.83,\n",
        " 6.92,\n",
        " 7.0,\n",
        " 7.08,\n",
        " 7.16,\n",
        " 7.24,\n",
        " 7.32,\n",
        " 7.4,\n",
        " 7.48,\n",
        " 7.56,\n",
        " 7.64,\n",
        " 7.72,\n",
        " 7.79,\n",
        " 7.87,\n",
        " 7.94,\n",
        " 8.01,\n",
        " 8.08,\n",
        " 8.15,\n",
        " 8.22,\n",
        " 8.29,\n",
        " 8.36,\n",
        " 8.42,\n",
        " 8.49,\n",
        " 8.56,\n",
        " 8.62,\n",
        " 8.68,\n",
        " 8.74,\n",
        " 8.8,\n",
        " 8.86,\n",
        " 8.92,\n",
        " 8.98,\n",
        " 9.04,\n",
        " 9.09,\n",
        " 9.15,\n",
        " 9.2,\n",
        " 9.26,\n",
        " 9.31,\n",
        " 9.36,\n",
        " 9.41,\n",
        " 9.46,\n",
        " 9.5,\n",
        " 9.55,\n",
        " 9.6,\n",
        " 9.64,\n",
        " 9.68,\n",
        " 9.73,\n",
        " 9.77,\n",
        " 9.81,\n",
        " 9.85,\n",
        " 9.88,\n",
        " 9.92,\n",
        " 9.96,\n",
        " 9.99,\n",
        " 10.03,\n",
        " 10.06,\n",
        " 10.09,\n",
        " 10.13,\n",
        " 10.16,\n",
        " 10.19,\n",
        " 10.22,\n",
        " 10.25,\n",
        " 10.28,\n",
        " 10.31,\n",
        " 10.33,\n",
        " 10.36,\n",
        " 10.38,\n",
        " 10.41,\n",
        " 10.43,\n",
        " 10.46,\n",
        " 10.48,\n",
        " 10.5,\n",
        " 10.52,\n",
        " 10.55,\n",
        " 10.57,\n",
        " 10.59,\n",
        " 10.61,\n",
        " 10.63,\n",
        " 10.65,\n",
        " 10.66,\n",
        " 10.68,\n",
        " 10.7,\n",
        " 10.72,\n",
        " 10.73,\n",
        " 10.75,\n",
        " 10.77,\n",
        " 10.78,\n",
        " 10.79,\n",
        " 10.81,\n",
        " 10.82,\n",
        " 10.83,\n",
        " 10.84,\n",
        " 10.85]"
      ],
      "execution_count": null,
      "outputs": []
    },
    {
      "cell_type": "code",
      "metadata": {
        "colab": {
          "base_uri": "https://localhost:8080/",
          "height": 299
        },
        "id": "pIiG7YglQyjy",
        "outputId": "68990df7-3987-4aa4-8270-94a6d9bcd71f"
      },
      "source": [
        "# Print the last item from year and pop\n",
        "print(year[-1])\n",
        "print(pop[-1])\n",
        "\n",
        "# Import matplotlib.pyplot as plt\n",
        "import matplotlib.pyplot as plt\n",
        "\n",
        "# Make a line plot: year on the x-axis, pop on the y-axis\n",
        "plt.plot(year,pop)\n",
        "# Display the plot with plt.show()\n",
        "plt.show()"
      ],
      "execution_count": null,
      "outputs": [
        {
          "output_type": "stream",
          "text": [
            "2100\n",
            "10.85\n"
          ],
          "name": "stdout"
        },
        {
          "output_type": "display_data",
          "data": {
            "image/png": "[encoded data removed]",
            "text/plain": [
              "<Figure size 432x288 with 1 Axes>"
            ]
          },
          "metadata": {
            "tags": [],
            "needs_background": "light"
          }
        }
      ]
    },
    {
      "cell_type": "markdown",
      "metadata": {
        "id": "DYvItTNpRRta"
      },
      "source": [
        "### Line Plot (3)"
      ]
    },
    {
      "cell_type": "markdown",
      "metadata": {
        "id": "PyEbNCafRTvg"
      },
      "source": [
        "Now that you've built your first line plot, let's start working on the data that professor Hans Rosling used to build his beautiful bubble chart. It was collected in 2007. Two lists are available for you:\n",
        "\n",
        "life_exp which contains the life expectancy for each country and\n",
        "gdp_cap, which contains the GDP per capita (i.e. per person) for each country expressed in US Dollars.\n",
        "GDP stands for Gross Domestic Product. It basically represents the size of the economy of a country. Divide this by the population and you get the GDP per capita.\n",
        "\n",
        "matplotlib.pyplot is already imported as plt, so you can get started straight away."
      ]
    },
    {
      "cell_type": "code",
      "metadata": {
        "id": "W2k7OJQ9RZ55"
      },
      "source": [
        "gdp_cap = [974.5803384,\n",
        " 5937.029525999998,\n",
        " 6223.367465,\n",
        " 4797.231267,\n",
        " 12779.37964,\n",
        " 34435.367439999995,\n",
        " 36126.4927,\n",
        " 29796.04834,\n",
        " 1391.253792,\n",
        " 33692.60508,\n",
        " 1441.284873,\n",
        " 3822.137084,\n",
        " 7446.298803,\n",
        " 12569.85177,\n",
        " 9065.800825,\n",
        " 10680.79282,\n",
        " 1217.032994,\n",
        " 430.0706916,\n",
        " 1713.778686,\n",
        " 2042.09524,\n",
        " 36319.23501,\n",
        " 706.016537,\n",
        " 1704.063724,\n",
        " 13171.63885,\n",
        " 4959.114854,\n",
        " 7006.580419,\n",
        " 986.1478792,\n",
        " 277.5518587,\n",
        " 3632.557798,\n",
        " 9645.06142,\n",
        " 1544.750112,\n",
        " 14619.222719999998,\n",
        " 8948.102923,\n",
        " 22833.30851,\n",
        " 35278.41874,\n",
        " 2082.4815670000007,\n",
        " 6025.3747520000015,\n",
        " 6873.262326000001,\n",
        " 5581.180998,\n",
        " 5728.353514,\n",
        " 12154.08975,\n",
        " 641.3695236000002,\n",
        " 690.8055759,\n",
        " 33207.0844,\n",
        " 30470.0167,\n",
        " 13206.48452,\n",
        " 752.7497265,\n",
        " 32170.37442,\n",
        " 1327.60891,\n",
        " 27538.41188,\n",
        " 5186.050003,\n",
        " 942.6542111,\n",
        " 579.2317429999998,\n",
        " 1201.637154,\n",
        " 3548.3308460000007,\n",
        " 39724.97867,\n",
        " 18008.94444,\n",
        " 36180.78919,\n",
        " 2452.210407,\n",
        " 3540.651564,\n",
        " 11605.71449,\n",
        " 4471.061906,\n",
        " 40675.99635,\n",
        " 25523.2771,\n",
        " 28569.7197,\n",
        " 7320.8802620000015,\n",
        " 31656.06806,\n",
        " 4519.461171,\n",
        " 1463.249282,\n",
        " 1593.06548,\n",
        " 23348.139730000006,\n",
        " 47306.98978,\n",
        " 10461.05868,\n",
        " 1569.331442,\n",
        " 414.5073415,\n",
        " 12057.49928,\n",
        " 1044.770126,\n",
        " 759.3499101,\n",
        " 12451.6558,\n",
        " 1042.581557,\n",
        " 1803.151496,\n",
        " 10956.99112,\n",
        " 11977.57496,\n",
        " 3095.7722710000007,\n",
        " 9253.896111,\n",
        " 3820.17523,\n",
        " 823.6856205,\n",
        " 944.0,\n",
        " 4811.060429,\n",
        " 1091.359778,\n",
        " 36797.93332,\n",
        " 25185.00911,\n",
        " 2749.320965,\n",
        " 619.6768923999998,\n",
        " 2013.977305,\n",
        " 49357.19017,\n",
        " 22316.19287,\n",
        " 2605.94758,\n",
        " 9809.185636,\n",
        " 4172.838464,\n",
        " 7408.905561,\n",
        " 3190.481016,\n",
        " 15389.924680000002,\n",
        " 20509.64777,\n",
        " 19328.70901,\n",
        " 7670.122558,\n",
        " 10808.47561,\n",
        " 863.0884639000002,\n",
        " 1598.435089,\n",
        " 21654.83194,\n",
        " 1712.472136,\n",
        " 9786.534714,\n",
        " 862.5407561000002,\n",
        " 47143.17964,\n",
        " 18678.31435,\n",
        " 25768.25759,\n",
        " 926.1410683,\n",
        " 9269.657808,\n",
        " 28821.0637,\n",
        " 3970.095407,\n",
        " 2602.394995,\n",
        " 4513.480643,\n",
        " 33859.74835,\n",
        " 37506.41907,\n",
        " 4184.548089,\n",
        " 28718.27684,\n",
        " 1107.482182,\n",
        " 7458.396326999998,\n",
        " 882.9699437999999,\n",
        " 18008.50924,\n",
        " 7092.923025,\n",
        " 8458.276384,\n",
        " 1056.380121,\n",
        " 33203.26128,\n",
        " 42951.65309,\n",
        " 10611.46299,\n",
        " 11415.80569,\n",
        " 2441.576404,\n",
        " 3025.349798,\n",
        " 2280.769906,\n",
        " 1271.211593,\n",
        " 469.70929810000007]\n",
        "\n",
        "life_exp = [43.828,\n",
        " 76.423,\n",
        " 72.301,\n",
        " 42.731,\n",
        " 75.32,\n",
        " 81.235,\n",
        " 79.829,\n",
        " 75.635,\n",
        " 64.062,\n",
        " 79.441,\n",
        " 56.728,\n",
        " 65.554,\n",
        " 74.852,\n",
        " 50.728,\n",
        " 72.39,\n",
        " 73.005,\n",
        " 52.295,\n",
        " 49.58,\n",
        " 59.723,\n",
        " 50.43,\n",
        " 80.653,\n",
        " 44.74100000000001,\n",
        " 50.651,\n",
        " 78.553,\n",
        " 72.961,\n",
        " 72.889,\n",
        " 65.152,\n",
        " 46.462,\n",
        " 55.322,\n",
        " 78.782,\n",
        " 48.328,\n",
        " 75.748,\n",
        " 78.273,\n",
        " 76.486,\n",
        " 78.332,\n",
        " 54.791,\n",
        " 72.235,\n",
        " 74.994,\n",
        " 71.33800000000002,\n",
        " 71.878,\n",
        " 51.57899999999999,\n",
        " 58.04,\n",
        " 52.947,\n",
        " 79.313,\n",
        " 80.657,\n",
        " 56.735,\n",
        " 59.448,\n",
        " 79.406,\n",
        " 60.022,\n",
        " 79.483,\n",
        " 70.259,\n",
        " 56.007,\n",
        " 46.38800000000001,\n",
        " 60.916,\n",
        " 70.19800000000001,\n",
        " 82.208,\n",
        " 73.33800000000002,\n",
        " 81.757,\n",
        " 64.69800000000001,\n",
        " 70.65,\n",
        " 70.964,\n",
        " 59.545,\n",
        " 78.885,\n",
        " 80.745,\n",
        " 80.546,\n",
        " 72.567,\n",
        " 82.603,\n",
        " 72.535,\n",
        " 54.11,\n",
        " 67.297,\n",
        " 78.623,\n",
        " 77.58800000000002,\n",
        " 71.993,\n",
        " 42.592,\n",
        " 45.678,\n",
        " 73.952,\n",
        " 59.44300000000001,\n",
        " 48.303,\n",
        " 74.241,\n",
        " 54.467,\n",
        " 64.164,\n",
        " 72.801,\n",
        " 76.195,\n",
        " 66.803,\n",
        " 74.543,\n",
        " 71.164,\n",
        " 42.082,\n",
        " 62.069,\n",
        " 52.90600000000001,\n",
        " 63.785,\n",
        " 79.762,\n",
        " 80.204,\n",
        " 72.899,\n",
        " 56.867,\n",
        " 46.859,\n",
        " 80.196,\n",
        " 75.64,\n",
        " 65.483,\n",
        " 75.53699999999998,\n",
        " 71.752,\n",
        " 71.421,\n",
        " 71.688,\n",
        " 75.563,\n",
        " 78.098,\n",
        " 78.74600000000002,\n",
        " 76.442,\n",
        " 72.476,\n",
        " 46.242,\n",
        " 65.528,\n",
        " 72.777,\n",
        " 63.062,\n",
        " 74.002,\n",
        " 42.56800000000001,\n",
        " 79.972,\n",
        " 74.663,\n",
        " 77.926,\n",
        " 48.159,\n",
        " 49.339,\n",
        " 80.941,\n",
        " 72.396,\n",
        " 58.556,\n",
        " 39.613,\n",
        " 80.884,\n",
        " 81.70100000000002,\n",
        " 74.143,\n",
        " 78.4,\n",
        " 52.517,\n",
        " 70.616,\n",
        " 58.42,\n",
        " 69.819,\n",
        " 73.923,\n",
        " 71.777,\n",
        " 51.542,\n",
        " 79.425,\n",
        " 78.242,\n",
        " 76.384,\n",
        " 73.747,\n",
        " 74.249,\n",
        " 73.422,\n",
        " 62.698,\n",
        " 42.38399999999999,\n",
        " 43.487]"
      ],
      "execution_count": null,
      "outputs": []
    },
    {
      "cell_type": "code",
      "metadata": {
        "id": "cSSes9IkS61q",
        "colab": {
          "base_uri": "https://localhost:8080/",
          "height": 299
        },
        "outputId": "cb957a6b-ed1e-4c9c-ca91-2e8e47a46e09"
      },
      "source": [
        "# Print the last item of gdp_cap and life_exp\n",
        "\n",
        "print(gdp_cap[-1])\n",
        "print(life_exp[-1])\n",
        "\n",
        "# Make a line plot, gdp_cap on the x-axis, life_exp on the y-axis\n",
        "plt.plot(gdp_cap,life_exp)\n",
        "\n",
        "# Display the plot\n",
        "plt.show()"
      ],
      "execution_count": null,
      "outputs": [
        {
          "output_type": "stream",
          "text": [
            "469.70929810000007\n",
            "43.487\n"
          ],
          "name": "stdout"
        },
        {
          "output_type": "display_data",
          "data": {
            "image/png": "[encoded data removed]",
            "text/plain": [
              "<Figure size 432x288 with 1 Axes>"
            ]
          },
          "metadata": {
            "tags": [],
            "needs_background": "light"
          }
        }
      ]
    },
    {
      "cell_type": "markdown",
      "metadata": {
        "id": "4Q_qyOc1PPUC"
      },
      "source": [
        "### Scatter Plot (1)"
      ]
    },
    {
      "cell_type": "markdown",
      "metadata": {
        "id": "iAXJQ8SuPW87"
      },
      "source": [
        "When you have a time scale along the horizontal axis, the line plot is your friend. But in many other cases, when you're trying to assess if there's a correlation between two variables, for example, the scatter plot is the better choice. Below is an example of how to build a scatter plot.\n",
        "\n",
        "\n",
        "\n",
        "```\n",
        "import matplotlib.pyplot as plt\n",
        "plt.scatter(x,y)\n",
        "plt.show()\n",
        "```\n",
        "\n",
        "\n",
        "\n",
        "Let's continue with the gdp_cap versus life_exp plot, the GDP and life expectancy data for different countries in 2007. Maybe a scatter plot will be a better alternative?\n",
        "\n",
        "Again, the matplotlib.pyplot package is available as plt"
      ]
    },
    {
      "cell_type": "code",
      "metadata": {
        "colab": {
          "base_uri": "https://localhost:8080/",
          "height": 269
        },
        "id": "G01R2LG9Pe9l",
        "outputId": "f75c191b-8f9f-4bc0-da70-491712ec4b52"
      },
      "source": [
        "# Change the line plot below to a scatter plot\n",
        "plt.scatter(gdp_cap, life_exp)\n",
        "\n",
        "# Put the x-axis on a logarithmic scale\n",
        "plt.xscale('log')\n",
        "\n",
        "# Show plot\n",
        "plt.show()"
      ],
      "execution_count": null,
      "outputs": [
        {
          "output_type": "display_data",
          "data": {
            "image/png": "[encoded data removed]",
            "text/plain": [
              "<Figure size 432x288 with 1 Axes>"
            ]
          },
          "metadata": {
            "tags": [],
            "needs_background": "light"
          }
        }
      ]
    },
    {
      "cell_type": "markdown",
      "metadata": {
        "id": "uSbpZU0TP0BZ"
      },
      "source": [
        "### Scatter Plot (2)"
      ]
    },
    {
      "cell_type": "markdown",
      "metadata": {
        "id": "PqPuhtsPP2Sz"
      },
      "source": [
        "In the previous exercise, you saw that the higher GDP usually corresponds to a higher life expectancy. In other words, there is a positive correlation.\n",
        "\n",
        "Do you think there's a relationship between population and life expectancy of a country? The list life_exp from the previous exercise is already available. In addition, now also pop is available, listing the corresponding populations for the countries in 2007. The populations are in millions of people."
      ]
    },
    {
      "cell_type": "code",
      "metadata": {
        "colab": {
          "base_uri": "https://localhost:8080/",
          "height": 265
        },
        "id": "Asm3O3pLP9Fr",
        "outputId": "6d16e665-f220-426a-a7f6-266d97f7a129"
      },
      "source": [
        "pop = [31.889923,\n",
        " 3.600523,\n",
        " 33.333216,\n",
        " 12.420476,\n",
        " 40.301927,\n",
        " 20.434176,\n",
        " 8.199783,\n",
        " 0.708573,\n",
        " 150.448339,\n",
        " 10.392226,\n",
        " 8.078314,\n",
        " 9.119152,\n",
        " 4.552198,\n",
        " 1.639131,\n",
        " 190.010647,\n",
        " 7.322858,\n",
        " 14.326203,\n",
        " 8.390505,\n",
        " 14.131858,\n",
        " 17.696293,\n",
        " 33.390141,\n",
        " 4.369038,\n",
        " 10.238807,\n",
        " 16.284741,\n",
        " 1318.683096,\n",
        " 44.22755,\n",
        " 0.71096,\n",
        " 64.606759,\n",
        " 3.80061,\n",
        " 4.133884,\n",
        " 18.013409,\n",
        " 4.493312,\n",
        " 11.416987,\n",
        " 10.228744,\n",
        " 5.46812,\n",
        " 0.496374,\n",
        " 9.319622,\n",
        " 13.75568,\n",
        " 80.264543,\n",
        " 6.939688,\n",
        " 0.551201,\n",
        " 4.906585,\n",
        " 76.511887,\n",
        " 5.23846,\n",
        " 61.083916,\n",
        " 1.454867,\n",
        " 1.688359,\n",
        " 82.400996,\n",
        " 22.873338,\n",
        " 10.70629,\n",
        " 12.572928,\n",
        " 9.947814,\n",
        " 1.472041,\n",
        " 8.502814,\n",
        " 7.483763,\n",
        " 6.980412,\n",
        " 9.956108,\n",
        " 0.301931,\n",
        " 1110.396331,\n",
        " 223.547,\n",
        " 69.45357,\n",
        " 27.499638,\n",
        " 4.109086,\n",
        " 6.426679,\n",
        " 58.147733,\n",
        " 2.780132,\n",
        " 127.467972,\n",
        " 6.053193,\n",
        " 35.610177,\n",
        " 23.301725,\n",
        " 49.04479,\n",
        " 2.505559,\n",
        " 3.921278,\n",
        " 2.012649,\n",
        " 3.193942,\n",
        " 6.036914,\n",
        " 19.167654,\n",
        " 13.327079,\n",
        " 24.821286,\n",
        " 12.031795,\n",
        " 3.270065,\n",
        " 1.250882,\n",
        " 108.700891,\n",
        " 2.874127,\n",
        " 0.684736,\n",
        " 33.757175,\n",
        " 19.951656,\n",
        " 47.76198,\n",
        " 2.05508,\n",
        " 28.90179,\n",
        " 16.570613,\n",
        " 4.115771,\n",
        " 5.675356,\n",
        " 12.894865,\n",
        " 135.031164,\n",
        " 4.627926,\n",
        " 3.204897,\n",
        " 169.270617,\n",
        " 3.242173,\n",
        " 6.667147,\n",
        " 28.674757,\n",
        " 91.077287,\n",
        " 38.518241,\n",
        " 10.642836,\n",
        " 3.942491,\n",
        " 0.798094,\n",
        " 22.276056,\n",
        " 8.860588,\n",
        " 0.199579,\n",
        " 27.601038,\n",
        " 12.267493,\n",
        " 10.150265,\n",
        " 6.144562,\n",
        " 4.553009,\n",
        " 5.447502,\n",
        " 2.009245,\n",
        " 9.118773,\n",
        " 43.997828,\n",
        " 40.448191,\n",
        " 20.378239,\n",
        " 42.292929,\n",
        " 1.133066,\n",
        " 9.031088,\n",
        " 7.554661,\n",
        " 19.314747,\n",
        " 23.174294,\n",
        " 38.13964,\n",
        " 65.068149,\n",
        " 5.701579,\n",
        " 1.056608,\n",
        " 10.276158,\n",
        " 71.158647,\n",
        " 29.170398,\n",
        " 60.776238,\n",
        " 301.139947,\n",
        " 3.447496,\n",
        " 26.084662,\n",
        " 85.262356,\n",
        " 4.018332,\n",
        " 22.211743,\n",
        " 11.746035,\n",
        " 12.311143]\n",
        "# Import package\n",
        "import matplotlib.pyplot as plt\n",
        "# Build Scatter plot\n",
        "plt.scatter(pop,life_exp)\n",
        "\n",
        "# Show plot\n",
        "plt.show()"
      ],
      "execution_count": null,
      "outputs": [
        {
          "output_type": "display_data",
          "data": {
            "image/png": "[encoded data removed]",
            "text/plain": [
              "<Figure size 432x288 with 1 Axes>"
            ]
          },
          "metadata": {
            "tags": [],
            "needs_background": "light"
          }
        }
      ]
    },
    {
      "cell_type": "markdown",
      "metadata": {
        "id": "qSAIcwL7QM4I"
      },
      "source": [
        "## Histogram"
      ]
    },
    {
      "cell_type": "markdown",
      "metadata": {
        "id": "TbFMN673QOdD"
      },
      "source": [
        "### Build a histogram (1)"
      ]
    },
    {
      "cell_type": "markdown",
      "metadata": {
        "id": "aFFNEgjkRK9E"
      },
      "source": [
        "life_exp, the list containing data on the life expectancy for different countries in 2007, is available in your Python shell.\n",
        "\n",
        "To see how life expectancy in different countries is distributed, let's create a histogram of life_exp.\n",
        "\n",
        "matplotlib.pyplot is already available as plt."
      ]
    },
    {
      "cell_type": "code",
      "metadata": {
        "colab": {
          "base_uri": "https://localhost:8080/",
          "height": 265
        },
        "id": "2y9ANiJFQmIO",
        "outputId": "551ac3ba-4734-4292-a062-9e6fe7f96747"
      },
      "source": [
        "# Create histogram of life_exp data\n",
        "\n",
        "plt.hist(life_exp)\n",
        "# Display histogram\n",
        "plt.show()"
      ],
      "execution_count": null,
      "outputs": [
        {
          "output_type": "display_data",
          "data": {
            "image/png": "[encoded data removed]",
            "text/plain": [
              "<Figure size 432x288 with 1 Axes>"
            ]
          },
          "metadata": {
            "tags": [],
            "needs_background": "light"
          }
        }
      ]
    },
    {
      "cell_type": "markdown",
      "metadata": {
        "id": "Xj50UOeaRV8t"
      },
      "source": [
        "### Build a histogram (2): bins"
      ]
    },
    {
      "cell_type": "markdown",
      "metadata": {
        "id": "D1df2hotRZuo"
      },
      "source": [
        "In the previous exercise, you didn't specify the number of bins. By default, Python sets the number of bins to 10 in that case. The number of bins is pretty important. Too few bins will oversimplify reality and won't show you the details. Too many bins will overcomplicate reality and won't show the bigger picture.\n",
        "\n",
        "To control the number of bins to divide your data in, you can set the bins argument.\n",
        "\n",
        "That's exactly what you'll do in this exercise. You'll be making two plots here. The code in the script already includes plt.show() and plt.clf() calls; plt.show() displays a plot; plt.clf() cleans it up again so you can start afresh.\n",
        "\n",
        "As before, life_exp is available and matplotlib.pyplot is imported as plt."
      ]
    },
    {
      "cell_type": "code",
      "metadata": {
        "colab": {
          "base_uri": "https://localhost:8080/",
          "height": 530
        },
        "id": "jZ6wLxLxRh-B",
        "outputId": "d23e63e8-b528-4c36-ddfe-76d839a2c184"
      },
      "source": [
        "# Build histogram with 5 bins\n",
        "plt.hist(life_exp,bins=5)\n",
        "\n",
        "# Show and clean up plot\n",
        "plt.show()\n",
        "plt.clf()\n",
        "\n",
        "# Build histogram with 20 bins\n",
        "plt.hist(life_exp,bins=20)\n",
        "\n",
        "# Show and clean up again\n",
        "plt.show()\n",
        "plt.clf()"
      ],
      "execution_count": null,
      "outputs": [
        {
          "output_type": "display_data",
          "data": {
            "image/png": "[encoded data removed]",
            "text/plain": [
              "<Figure size 432x288 with 1 Axes>"
            ]
          },
          "metadata": {
            "tags": [],
            "needs_background": "light"
          }
        },
        {
          "output_type": "display_data",
          "data": {
            "image/png": "[encoded data removed]",
            "text/plain": [
              "<Figure size 432x288 with 1 Axes>"
            ]
          },
          "metadata": {
            "tags": [],
            "needs_background": "light"
          }
        },
        {
          "output_type": "display_data",
          "data": {
            "text/plain": [
              "<Figure size 432x288 with 0 Axes>"
            ]
          },
          "metadata": {
            "tags": []
          }
        }
      ]
    },
    {
      "cell_type": "markdown",
      "metadata": {
        "id": "9WdWDFLZR-Vg"
      },
      "source": [
        "### Build a histogram (3): compare"
      ]
    },
    {
      "cell_type": "markdown",
      "metadata": {
        "id": "5JJSx78FSCKQ"
      },
      "source": [
        "In the video, you saw population pyramids for the present day and for the future. Because we were using a histogram, it was very easy to make a comparison.\n",
        "\n",
        "Let's do a similar comparison. life_exp contains life expectancy data for different countries in 2007. You also have access to a second list now, life_exp1950, containing similar data for 1950. Can you make a histogram for both datasets?\n",
        "\n",
        "You'll again be making two plots. The plt.show() and plt.clf() commands to render everything nicely are already included. Also matplotlib.pyplot is imported for you, as plt."
      ]
    },
    {
      "cell_type": "code",
      "metadata": {
        "colab": {
          "base_uri": "https://localhost:8080/",
          "height": 530
        },
        "id": "EjAJdwPFSH8R",
        "outputId": "da55f6f2-93df-4ba1-983e-80d1165b1dc9"
      },
      "source": [
        "life_exp1950 = [28.8,\n",
        " 55.23,\n",
        " 43.08,\n",
        " 30.02,\n",
        " 62.48,\n",
        " 69.12,\n",
        " 66.8,\n",
        " 50.94,\n",
        " 37.48,\n",
        " 68.0,\n",
        " 38.22,\n",
        " 40.41,\n",
        " 53.82,\n",
        " 47.62,\n",
        " 50.92,\n",
        " 59.6,\n",
        " 31.98,\n",
        " 39.03,\n",
        " 39.42,\n",
        " 38.52,\n",
        " 68.75,\n",
        " 35.46,\n",
        " 38.09,\n",
        " 54.74,\n",
        " 44.0,\n",
        " 50.64,\n",
        " 40.72,\n",
        " 39.14,\n",
        " 42.11,\n",
        " 57.21,\n",
        " 40.48,\n",
        " 61.21,\n",
        " 59.42,\n",
        " 66.87,\n",
        " 70.78,\n",
        " 34.81,\n",
        " 45.93,\n",
        " 48.36,\n",
        " 41.89,\n",
        " 45.26,\n",
        " 34.48,\n",
        " 35.93,\n",
        " 34.08,\n",
        " 66.55,\n",
        " 67.41,\n",
        " 37.0,\n",
        " 30.0,\n",
        " 67.5,\n",
        " 43.15,\n",
        " 65.86,\n",
        " 42.02,\n",
        " 33.61,\n",
        " 32.5,\n",
        " 37.58,\n",
        " 41.91,\n",
        " 60.96,\n",
        " 64.03,\n",
        " 72.49,\n",
        " 37.37,\n",
        " 37.47,\n",
        " 44.87,\n",
        " 45.32,\n",
        " 66.91,\n",
        " 65.39,\n",
        " 65.94,\n",
        " 58.53,\n",
        " 63.03,\n",
        " 43.16,\n",
        " 42.27,\n",
        " 50.06,\n",
        " 47.45,\n",
        " 55.56,\n",
        " 55.93,\n",
        " 42.14,\n",
        " 38.48,\n",
        " 42.72,\n",
        " 36.68,\n",
        " 36.26,\n",
        " 48.46,\n",
        " 33.68,\n",
        " 40.54,\n",
        " 50.99,\n",
        " 50.79,\n",
        " 42.24,\n",
        " 59.16,\n",
        " 42.87,\n",
        " 31.29,\n",
        " 36.32,\n",
        " 41.72,\n",
        " 36.16,\n",
        " 72.13,\n",
        " 69.39,\n",
        " 42.31,\n",
        " 37.44,\n",
        " 36.32,\n",
        " 72.67,\n",
        " 37.58,\n",
        " 43.44,\n",
        " 55.19,\n",
        " 62.65,\n",
        " 43.9,\n",
        " 47.75,\n",
        " 61.31,\n",
        " 59.82,\n",
        " 64.28,\n",
        " 52.72,\n",
        " 61.05,\n",
        " 40.0,\n",
        " 46.47,\n",
        " 39.88,\n",
        " 37.28,\n",
        " 58.0,\n",
        " 30.33,\n",
        " 60.4,\n",
        " 64.36,\n",
        " 65.57,\n",
        " 32.98,\n",
        " 45.01,\n",
        " 64.94,\n",
        " 57.59,\n",
        " 38.64,\n",
        " 41.41,\n",
        " 71.86,\n",
        " 69.62,\n",
        " 45.88,\n",
        " 58.5,\n",
        " 41.22,\n",
        " 50.85,\n",
        " 38.6,\n",
        " 59.1,\n",
        " 44.6,\n",
        " 43.58,\n",
        " 39.98,\n",
        " 69.18,\n",
        " 68.44,\n",
        " 66.07,\n",
        " 55.09,\n",
        " 40.41,\n",
        " 43.16,\n",
        " 32.55,\n",
        " 42.04,\n",
        " 48.45]\n",
        "\n",
        " # Histogram of life_exp, 15 bins\n",
        "plt.hist(life_exp,bins=15)\n",
        "\n",
        "# Show and clear plot\n",
        "plt.show()\n",
        "plt.clf()\n",
        "\n",
        "# Histogram of life_exp1950, 15 bins\n",
        "plt.hist(life_exp1950,bins=15)\n",
        "\n",
        "# Show and clear plot again\n",
        "plt.show()\n",
        "plt.clf()"
      ],
      "execution_count": null,
      "outputs": [
        {
          "output_type": "display_data",
          "data": {
            "image/png": "[encoded data removed]",
            "text/plain": [
              "<Figure size 432x288 with 1 Axes>"
            ]
          },
          "metadata": {
            "tags": [],
            "needs_background": "light"
          }
        },
        {
          "output_type": "display_data",
          "data": {
            "image/png": "[encoded data removed]",
            "text/plain": [
              "<Figure size 432x288 with 1 Axes>"
            ]
          },
          "metadata": {
            "tags": [],
            "needs_background": "light"
          }
        },
        {
          "output_type": "display_data",
          "data": {
            "text/plain": [
              "<Figure size 432x288 with 0 Axes>"
            ]
          },
          "metadata": {
            "tags": []
          }
        }
      ]
    }
  ]
}